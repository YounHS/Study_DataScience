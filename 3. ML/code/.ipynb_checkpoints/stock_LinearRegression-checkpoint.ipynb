{
 "cells": [
  {
   "cell_type": "code",
   "execution_count": 3,
   "metadata": {
    "scrolled": true
   },
   "outputs": [
    {
     "name": "stdout",
     "output_type": "stream",
     "text": [
      "Collecting package metadata (current_repodata.json): ...working... done\n",
      "Solving environment: ...working... done\n",
      "\n",
      "## Package Plan ##\n",
      "\n",
      "  environment location: C:\\Users\\Youn\\Anaconda3\\envs\\stock\n",
      "\n",
      "  added / updated specs:\n",
      "    - numpy\n",
      "\n",
      "\n",
      "The following NEW packages will be INSTALLED:\n",
      "\n",
      "  blas               pkgs/main/win-64::blas-1.0-mkl\n",
      "  intel-openmp       pkgs/main/win-64::intel-openmp-2020.2-254\n",
      "  mkl                pkgs/main/win-64::mkl-2020.2-256\n",
      "  mkl-service        pkgs/main/win-64::mkl-service-2.3.0-py37h196d8e1_0\n",
      "  mkl_fft            pkgs/main/win-64::mkl_fft-1.3.0-py37h46781fe_0\n",
      "  mkl_random         pkgs/main/win-64::mkl_random-1.1.1-py37h47e9c7a_0\n",
      "  numpy              pkgs/main/win-64::numpy-1.19.2-py37hadc3359_0\n",
      "  numpy-base         pkgs/main/win-64::numpy-base-1.19.2-py37ha3acd2a_0\n",
      "\n",
      "\n",
      "Preparing transaction: ...working... done\n",
      "Verifying transaction: ...working... done\n",
      "Executing transaction: ...working... done\n"
     ]
    },
    {
     "name": "stderr",
     "output_type": "stream",
     "text": [
      "\n",
      "\n",
      "==> WARNING: A newer version of conda exists. <==\n",
      "  current version: 4.9.2\n",
      "  latest version: 4.10.1\n",
      "\n",
      "Please update conda by running\n",
      "\n",
      "    $ conda update -n base -c defaults conda\n",
      "\n",
      "\n"
     ]
    }
   ],
   "source": [
    "!conda install -y numpy\n",
    "!conda install -y matplotlib\n",
    "!conda install -y pandas\n",
    "!conda install -y scikit-learn\n",
    "!conda install -y seaborn"
   ]
  },
  {
   "cell_type": "code",
   "execution_count": 8,
   "metadata": {},
   "outputs": [],
   "source": [
    "import numpy as np\n",
    "import matplotlib.pyplot as plt\n",
    "import pandas as pd\n",
    "import seaborn as sns\n",
    "import pickle\n",
    "\n",
    "from sklearn import svm\n",
    "from sklearn.datasets import make_blobs\n",
    "from sklearn import model_selection\n",
    "from sklearn.linear_model import LinearRegression"
   ]
  },
  {
   "cell_type": "code",
   "execution_count": 2,
   "metadata": {},
   "outputs": [
    {
     "name": "stdout",
     "output_type": "stream",
     "text": [
      "         Date       Open       High        Low      Close  Adj Close   Volume  \\\n",
      "0  2021-04-14  71.120003  73.510002  70.980003  72.279999  72.279999  3460300   \n",
      "1  2021-04-13  70.120003  70.860001  69.540001  70.279999  70.279999  3951900   \n",
      "2  2021-04-12  71.930000  72.820000  70.120003  70.300003  70.300003  3111800   \n",
      "3  2021-04-09  72.550003  73.230003  70.779999  71.089996  71.089996  3501300   \n",
      "4  2021-04-08  73.419998  73.779999  71.910004  72.879997  72.879997  4285400   \n",
      "\n",
      "   year month year_month  \n",
      "0  2021    04     202104  \n",
      "1  2021    04     202104  \n",
      "2  2021    04     202104  \n",
      "3  2021    04     202104  \n",
      "4  2021    04     202104  \n",
      "<class 'pandas.core.frame.DataFrame'>\n",
      "RangeIndex: 1258 entries, 0 to 1257\n",
      "Data columns (total 10 columns):\n",
      " #   Column      Non-Null Count  Dtype  \n",
      "---  ------      --------------  -----  \n",
      " 0   Date        1258 non-null   object \n",
      " 1   Open        1258 non-null   float64\n",
      " 2   High        1258 non-null   float64\n",
      " 3   Low         1258 non-null   float64\n",
      " 4   Close       1258 non-null   float64\n",
      " 5   Adj Close   1258 non-null   float64\n",
      " 6   Volume      1258 non-null   int64  \n",
      " 7   year        1258 non-null   object \n",
      " 8   month       1258 non-null   object \n",
      " 9   year_month  1258 non-null   object \n",
      "dtypes: float64(5), int64(1), object(4)\n",
      "memory usage: 98.4+ KB\n",
      "None\n"
     ]
    }
   ],
   "source": [
    "vlo_prices = pd.read_csv(\"../data/stock/vlo/VLO_5y_prices.csv\")\n",
    "\n",
    "vlo_prices[\"year\"] = vlo_prices[\"Date\"].str.split('-').str[0]\n",
    "vlo_prices[\"month\"] = vlo_prices[\"Date\"].str.split('-').str[1]\n",
    "vlo_prices[\"year_month\"] = vlo_prices[\"year\"] + \"\" + vlo_prices[\"month\"]\n",
    "\n",
    "print(vlo_prices.head())\n",
    "\n",
    "# year_filtered_vlo_prices = pd.read_csv(\"../data/stock/vlo/VLO_5y_prices.csv\", parse_dates=[\"Date\"], index_col=\"Date\")\n",
    "\n",
    "print(vlo_prices.info())\n",
    "del vlo_prices['Adj Close']\n",
    "\n",
    "# plt.figure(figsize=(15,15))\n",
    "# sns.heatmap(data = vlo_prices.corr(), annot=True, \n",
    "# fmt = '.2f', linewidths=.5, cmap='Blues')\n",
    "\n",
    "# car_features = ['x', 'y', 'z', 'v']\n",
    "\n",
    "# X = car.loc[:, car_features].values\n",
    "# Y = car.loc[:, 'label'].values"
   ]
  },
  {
   "cell_type": "code",
   "execution_count": null,
   "metadata": {},
   "outputs": [],
   "source": [
    "vlo_prices.to_csv(\"../data/stock/vlo/VLO_5y_prices_year_month.csv\")"
   ]
  },
  {
   "cell_type": "code",
   "execution_count": 3,
   "metadata": {},
   "outputs": [],
   "source": [
    "train = vlo_prices[vlo_prices.year_month != \"202104\"]\n",
    "test = vlo_prices[vlo_prices.year_month == \"202104\"]"
   ]
  },
  {
   "cell_type": "code",
   "execution_count": 4,
   "metadata": {},
   "outputs": [
    {
     "name": "stdout",
     "output_type": "stream",
     "text": [
      "(1249, 4)\n",
      "(9, 4)\n"
     ]
    }
   ],
   "source": [
    "feature_names = ['Open', 'High', 'Low', 'Volume']\n",
    "\n",
    "X_train = train[feature_names]\n",
    "X_test = test[feature_names]\n",
    "\n",
    "label_name = \"Close\"\n",
    "Y_train = train[label_name]\n",
    "\n",
    "Y_test = test[label_name]\n",
    "\n",
    "print(X_train.shape)\n",
    "print(X_test.shape)"
   ]
  },
  {
   "cell_type": "code",
   "execution_count": 5,
   "metadata": {},
   "outputs": [
    {
     "name": "stdout",
     "output_type": "stream",
     "text": [
      "Linear Regression test file accuracy: 0.8297974138262821\n"
     ]
    },
    {
     "data": {
      "text/plain": [
       "array([-5.10542977e-01,  7.52260297e-01,  7.57618958e-01,  4.56356568e-09])"
      ]
     },
     "execution_count": 5,
     "metadata": {},
     "output_type": "execute_result"
    }
   ],
   "source": [
    "lm = LinearRegression(fit_intercept=True, normalize=True, n_jobs=None)\n",
    "lm.fit(X_train, Y_train)\n",
    "accuracy = lm.score(X_test, Y_test)\n",
    "\n",
    "print(\"Linear Regression test file accuracy: \" + str(accuracy))\n",
    "\n",
    "lm.coef_"
   ]
  },
  {
   "cell_type": "code",
   "execution_count": 49,
   "metadata": {},
   "outputs": [
    {
     "name": "stdout",
     "output_type": "stream",
     "text": [
      "Index(['Open', 'High', 'Low', 'Volume'], dtype='object')\n"
     ]
    },
    {
     "data": {
      "text/html": [
       "<div>\n",
       "<style scoped>\n",
       "    .dataframe tbody tr th:only-of-type {\n",
       "        vertical-align: middle;\n",
       "    }\n",
       "\n",
       "    .dataframe tbody tr th {\n",
       "        vertical-align: top;\n",
       "    }\n",
       "\n",
       "    .dataframe thead th {\n",
       "        text-align: right;\n",
       "    }\n",
       "</style>\n",
       "<table border=\"1\" class=\"dataframe\">\n",
       "  <thead>\n",
       "    <tr style=\"text-align: right;\">\n",
       "      <th></th>\n",
       "      <th>features</th>\n",
       "      <th>coefficients</th>\n",
       "    </tr>\n",
       "  </thead>\n",
       "  <tbody>\n",
       "    <tr>\n",
       "      <th>2</th>\n",
       "      <td>저가</td>\n",
       "      <td>7.576190e-01</td>\n",
       "    </tr>\n",
       "    <tr>\n",
       "      <th>1</th>\n",
       "      <td>고가</td>\n",
       "      <td>7.522603e-01</td>\n",
       "    </tr>\n",
       "    <tr>\n",
       "      <th>0</th>\n",
       "      <td>시가</td>\n",
       "      <td>-5.105430e-01</td>\n",
       "    </tr>\n",
       "    <tr>\n",
       "      <th>3</th>\n",
       "      <td>거래량</td>\n",
       "      <td>4.563566e-09</td>\n",
       "    </tr>\n",
       "  </tbody>\n",
       "</table>\n",
       "</div>"
      ],
      "text/plain": [
       "  features  coefficients\n",
       "2       저가  7.576190e-01\n",
       "1       고가  7.522603e-01\n",
       "0       시가 -5.105430e-01\n",
       "3      거래량  4.563566e-09"
      ]
     },
     "execution_count": 49,
     "metadata": {},
     "output_type": "execute_result"
    }
   ],
   "source": [
    "X_Cols = X_train.rename(columns= {'Open': '시가', 'High': '고가', 'Low': '저가', 'Volume': '거래량' })\n",
    "\n",
    "print(X_train.columns)\n",
    "coefs = pd.DataFrame(zip(X_Cols.columns,lm.coef_), columns = ['features', 'coefficients'])\n",
    "\n",
    "\n",
    "coefs.reindex(coefs.coefficients.abs().sort_values(ascending=False).index)"
   ]
  },
  {
   "cell_type": "code",
   "execution_count": 6,
   "metadata": {},
   "outputs": [
    {
     "data": {
      "text/plain": [
       "Text(0.5, 1.0, 'Prices vs Predicted price Index: $Y_i$ vs $\\\\hat{Y}_i$')"
      ]
     },
     "execution_count": 6,
     "metadata": {},
     "output_type": "execute_result"
    },
    {
     "data": {
      "image/png": "[encoded data removed]",
      "text/plain": [
       "<Figure size 432x288 with 1 Axes>"
      ]
     },
     "metadata": {
      "needs_background": "light"
     },
     "output_type": "display_data"
    }
   ],
   "source": [
    "Y_pred = lm.predict(X_test)\n",
    "\n",
    "plt.scatter(Y_test, Y_pred)\n",
    "\n",
    "plt.xlabel(\"Price Index: $Y_i$\")\n",
    "plt.ylabel(\"Predicted price Index: $\\hat{Y}_i$\")\n",
    "plt.title(\"Prices vs Predicted price Index: $Y_i$ vs $\\hat{Y}_i$\")"
   ]
  },
  {
   "cell_type": "code",
   "execution_count": 14,
   "metadata": {},
   "outputs": [],
   "source": [
    "filename = 'vlo_lr_model.sav'\n",
    "pickle.dump(lm, open(\"../model/\" + filename, 'wb'))"
   ]
  },
  {
   "cell_type": "code",
   "execution_count": 15,
   "metadata": {},
   "outputs": [
    {
     "name": "stdout",
     "output_type": "stream",
     "text": [
      "[73.92059186]\n"
     ]
    }
   ],
   "source": [
    "tesset = [[72.14, 75.33, 71.31, 3792700]]\n",
    "loaded_model = pickle.load(open(\"../model/\" + filename, 'rb'))\n",
    "abc = loaded_model.predict(tesset)\n",
    "# result = loaded_model.score(X_test, Y_test)\n",
    "# print(result)\n",
    "print(abc)"
   ]
  },
  {
   "cell_type": "code",
   "execution_count": null,
   "metadata": {},
   "outputs": [],
   "source": []
  }
 ],
 "metadata": {
  "kernelspec": {
   "display_name": "Python 3",
   "language": "python",
   "name": "python3"
  },
  "language_info": {
   "codemirror_mode": {
    "name": "ipython",
    "version": 3
   },
   "file_extension": ".py",
   "mimetype": "text/x-python",
   "name": "python",
   "nbconvert_exporter": "python",
   "pygments_lexer": "ipython3",
   "version": "3.7.2"
  }
 },
 "nbformat": 4,
 "nbformat_minor": 2
}
