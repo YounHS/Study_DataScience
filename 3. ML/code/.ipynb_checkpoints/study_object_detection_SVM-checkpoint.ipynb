{
 "cells": [
  {
   "cell_type": "code",
   "execution_count": 56,
   "metadata": {},
   "outputs": [],
   "source": [
    "import numpy as np\n",
    "import matplotlib.pyplot as plt\n",
    "import pandas as pd\n",
    "import pickle\n",
    "\n",
    "from sklearn import svm\n",
    "from sklearn.datasets.samples_generator import make_blobs\n",
    "from sklearn import model_selection"
   ]
  },
  {
   "cell_type": "code",
   "execution_count": 29,
   "metadata": {},
   "outputs": [],
   "source": [
    "car = pd.read_csv(\"./output.csv\")\n",
    "\n",
    "car_features = ['x', 'y', 'z', 'v']\n",
    "\n",
    "X = car.loc[:, car_features].values\n",
    "Y = car.loc[:, 'label'].values"
   ]
  },
  {
   "cell_type": "code",
   "execution_count": 35,
   "metadata": {},
   "outputs": [
    {
     "name": "stdout",
     "output_type": "stream",
     "text": [
      "[[0.24018551 0.2994069  0.68021691 0.23628732]\n",
      " [0.29060389 0.21607841 0.50550294 0.14189471]\n",
      " [0.36863905 0.8606261  0.61149997 1.4229878 ]\n",
      " ...\n",
      " [0.26457442 0.21735836 0.50224376 0.12562346]\n",
      " [0.31718817 0.25995565 0.65549463 0.27602186]\n",
      " [1.15431973 0.70647875 0.69       2.95514102]]\n"
     ]
    }
   ],
   "source": [
    "print(X)"
   ]
  },
  {
   "cell_type": "code",
   "execution_count": 34,
   "metadata": {},
   "outputs": [
    {
     "name": "stdout",
     "output_type": "stream",
     "text": [
      "[0 0 1 1 0 0 0 0 0 0 0 1 0 0 0 0 1 1 0 0 0 1 0 0 0 0 0 0 0 0 0 1 1 0 0 0 0\n",
      " 0 0 0 1 0 0 0 0 0 0 0 0 0 0 0 0 0 0 0 1 0 0 0 0 0 1 0 0 0 0 0 1 0 0 1 1 1\n",
      " 0 0 0 0 0 1 0 0 0 0 0 0 1 0 1 0 0 0 0 0 0 0 0 0 0 0 0 0 1 0 0 1 0 0 0 0 0\n",
      " 0 0 0 0 1 1 0 0 0 1 0 0 0 0 0 0 0 0 0 0 1 0 1 0 0 0 0 0 1 0 0 0 0 0 0 0 0\n",
      " 0 0 1 0 0 0 0 0 1 0 0 0 1 0 0 0 0 0 0 1 0 0 0 0 0 1 0 0 1 1 1 0 1 0 0 0 0\n",
      " 0 0 0 0 0 0 1 1 1 0 1 0 0 0 0 0 0 0 0 0 0 0 1 0 0 0 0 0 0 0 0 0 1 0 1 0 0\n",
      " 0 0 1 0 0 0 1 0 1 1 0 0 0 0 0 0 0 0 0 1 1 1 1 0 0 0 0 0 0 0 0 1 0 0 0 0 0\n",
      " 0 0 1 0 0 0 0 0 0 0 0 0 0 0 1 1 1 0 0 0 1 0 0 0 0 0 0 0 0 0 0 0 0 0 0 0 0\n",
      " 0 0 1 0 0 0 0 0 0 0 0 0 0 0 0 0 0 1 0 0 0 0 0 0 1 0 0 0 0 0 1 0 0 0 0 0 0\n",
      " 0 0 0 1 0 0 0 0 0 0 0 0 0 0 0 0 0 0 0 0 0 0 0 0 0 0 0 0 0 0 0 1 0 0 0 0 0\n",
      " 1 1 0 0 0 0 0 0 0 0 1 0 0 0 0 1 1 0 0 1 0 0 0 1 0 0 0 1 0 0 0 0 0 0 0 0 0\n",
      " 0 0 0 0 0 0 0 0 0 1 0 1 0 0 0 0 0 0 0 0 0 1 0 0 0 0 0 0 0 0 1 1 0 1 0 0 0\n",
      " 1 0 0 0 0 0 0 0 0 0 0 1 0 1 1 0 0 0 1 0 1 0 1 0 1 0 0 0 0 0 1 1 0 0 0 0 0\n",
      " 0 0 0 0 0 0 0 0 0 0 0 0 0 0 0 0 1 0 0 0 0 0 1 0 0 0 1 0 0 0 0 0 1 1 0 0 0\n",
      " 1 0 0 0 0 0 0 0 0 0 0 1 0 0 0 0 0 1 1 1 1 1 0 0 1]\n"
     ]
    }
   ],
   "source": [
    "print(Y)"
   ]
  },
  {
   "cell_type": "code",
   "execution_count": 30,
   "metadata": {},
   "outputs": [],
   "source": [
    "X_train, X_test, Y_train, Y_test = model_selection.train_test_split (X, Y, test_size=0.4, random_state=0)"
   ]
  },
  {
   "cell_type": "code",
   "execution_count": 41,
   "metadata": {},
   "outputs": [
    {
     "name": "stdout",
     "output_type": "stream",
     "text": [
      "(325, 4)\n"
     ]
    }
   ],
   "source": [
    "print(X_train.shape)"
   ]
  },
  {
   "cell_type": "code",
   "execution_count": 21,
   "metadata": {},
   "outputs": [
    {
     "name": "stdout",
     "output_type": "stream",
     "text": [
      "163\n"
     ]
    }
   ],
   "source": [
    "print(len(X_test))"
   ]
  },
  {
   "cell_type": "code",
   "execution_count": 42,
   "metadata": {},
   "outputs": [
    {
     "name": "stdout",
     "output_type": "stream",
     "text": [
      "(325,)\n"
     ]
    }
   ],
   "source": [
    "print(Y_train.shape)"
   ]
  },
  {
   "cell_type": "code",
   "execution_count": 23,
   "metadata": {},
   "outputs": [
    {
     "name": "stdout",
     "output_type": "stream",
     "text": [
      "163\n"
     ]
    }
   ],
   "source": [
    "print(len(Y_test))"
   ]
  },
  {
   "cell_type": "code",
   "execution_count": 49,
   "metadata": {},
   "outputs": [
    {
     "name": "stdout",
     "output_type": "stream",
     "text": [
      "[[0.26801986 0.27462202 0.74479991 0.21432983]\n",
      " [0.21148415 0.22573947 0.71799702 0.16082287]\n",
      " [0.25081092 0.21062992 0.56694305 0.130388  ]\n",
      " ...\n",
      " [0.23983413 0.22760176 0.77642304 0.19097538]\n",
      " [0.25015353 0.27408589 0.73221338 0.20790118]\n",
      " [1.89446202 0.704774   0.505      5.8239172 ]]\n"
     ]
    }
   ],
   "source": [
    "print(X_train)"
   ]
  },
  {
   "cell_type": "code",
   "execution_count": 50,
   "metadata": {},
   "outputs": [
    {
     "name": "stdout",
     "output_type": "stream",
     "text": [
      "[0 0 0 0 0 0 1 1 0 0 0 0 1 0 0 1 0 0 1 0 1 0 0 1 1 1 0 0 0 0 0 0 0 0 0 1 0\n",
      " 0 0 0 0 0 0 0 0 0 1 0 0 0 1 1 1 1 0 0 0 1 0 0 1 1 0 0 0 1 0 0 0 0 0 0 0 0\n",
      " 1 0 1 0 0 0 0 0 0 0 1 0 0 0 1 0 0 0 0 0 0 0 0 0 1 0 1 0 1 1 1 0 0 0 0 0 0\n",
      " 0 1 0 0 1 0 0 0 0 0 0 0 0 0 0 0 0 1 1 1 0 1 0 0 0 0 0 1 0 0 1 0 0 0 0 0 0\n",
      " 0 0 1 0 0 0 0 1 0 0 0 1 0 0 0 0 1 0 0 0 0 0 0 0 0 0 1 0 0 0 0 0 0 1 1 0 1\n",
      " 0 1 0 1 0 0 0 1 0 0 1 0 0 1 0 0 0 0 0 0 0 0 0 0 0 0 1 0 0 0 0 0 1 0 1 0 0\n",
      " 0 0 0 0 0 0 0 0 0 1 0 1 0 0 0 0 0 0 0 0 0 0 0 0 0 1 1 1 0 0 0 0 0 1 0 0 1\n",
      " 0 0 0 0 0 0 0 0 0 1 1 0 0 0 0 0 0 0 0 0 0 0 0 0 0 0 0 1 0 0 1 0 0 1 0 0 0\n",
      " 0 0 0 0 0 0 0 1 0 0 0 0 1 0 0 0 1 1 0 0 0 0 0 0 0 0 0 0 1]\n"
     ]
    }
   ],
   "source": [
    "print(Y_train)"
   ]
  },
  {
   "cell_type": "code",
   "execution_count": 47,
   "metadata": {},
   "outputs": [
    {
     "data": {
      "text/plain": [
       "SVC(C=1.0, break_ties=False, cache_size=200, class_weight=None, coef0=0.0,\n",
       "    decision_function_shape='ovr', degree=3, gamma='scale', kernel='linear',\n",
       "    max_iter=-1, probability=False, random_state=None, shrinking=True,\n",
       "    tol=0.001, verbose=False)"
      ]
     },
     "execution_count": 47,
     "metadata": {},
     "output_type": "execute_result"
    }
   ],
   "source": [
    "# clf_ob = svm.SVC(kernel='linear', C=1).fit(X_train, Y_train)\n",
    "clf = svm.SVC(kernel='linear')  # 선형 분류, 비선형 (rbf, poly)\n",
    "clf.fit(X_train, Y_train)"
   ]
  },
  {
   "cell_type": "code",
   "execution_count": 53,
   "metadata": {},
   "outputs": [
    {
     "ename": "ValueError",
     "evalue": "X.shape[1] = 2 should be equal to 4, the number of features at training time",
     "output_type": "error",
     "traceback": [
      "\u001b[1;31m---------------------------------------------------------------------------\u001b[0m",
      "\u001b[1;31mValueError\u001b[0m                                Traceback (most recent call last)",
      "\u001b[1;32m<ipython-input-53-266be9a00d8f>\u001b[0m in \u001b[0;36m<module>\u001b[1;34m\u001b[0m\n\u001b[0;32m     12\u001b[0m \u001b[0mYY\u001b[0m\u001b[1;33m,\u001b[0m \u001b[0mXX\u001b[0m \u001b[1;33m=\u001b[0m \u001b[0mnp\u001b[0m\u001b[1;33m.\u001b[0m\u001b[0mmeshgrid\u001b[0m\u001b[1;33m(\u001b[0m\u001b[0myy\u001b[0m\u001b[1;33m,\u001b[0m \u001b[0mxx\u001b[0m\u001b[1;33m)\u001b[0m\u001b[1;33m\u001b[0m\u001b[1;33m\u001b[0m\u001b[0m\n\u001b[0;32m     13\u001b[0m \u001b[0mxy\u001b[0m \u001b[1;33m=\u001b[0m \u001b[0mnp\u001b[0m\u001b[1;33m.\u001b[0m\u001b[0mvstack\u001b[0m\u001b[1;33m(\u001b[0m\u001b[1;33m[\u001b[0m\u001b[0mXX\u001b[0m\u001b[1;33m.\u001b[0m\u001b[0mravel\u001b[0m\u001b[1;33m(\u001b[0m\u001b[1;33m)\u001b[0m\u001b[1;33m,\u001b[0m \u001b[0mYY\u001b[0m\u001b[1;33m.\u001b[0m\u001b[0mravel\u001b[0m\u001b[1;33m(\u001b[0m\u001b[1;33m)\u001b[0m\u001b[1;33m]\u001b[0m\u001b[1;33m)\u001b[0m\u001b[1;33m.\u001b[0m\u001b[0mT\u001b[0m\u001b[1;33m\u001b[0m\u001b[1;33m\u001b[0m\u001b[0m\n\u001b[1;32m---> 14\u001b[1;33m \u001b[0mZ\u001b[0m \u001b[1;33m=\u001b[0m \u001b[0mclf\u001b[0m\u001b[1;33m.\u001b[0m\u001b[0mdecision_function\u001b[0m\u001b[1;33m(\u001b[0m\u001b[0mxy\u001b[0m\u001b[1;33m)\u001b[0m\u001b[1;33m.\u001b[0m\u001b[0mreshape\u001b[0m\u001b[1;33m(\u001b[0m\u001b[0mXX\u001b[0m\u001b[1;33m.\u001b[0m\u001b[0mshape\u001b[0m\u001b[1;33m)\u001b[0m\u001b[1;33m\u001b[0m\u001b[1;33m\u001b[0m\u001b[0m\n\u001b[0m\u001b[0;32m     15\u001b[0m \u001b[1;33m\u001b[0m\u001b[0m\n\u001b[0;32m     16\u001b[0m \u001b[0max\u001b[0m\u001b[1;33m.\u001b[0m\u001b[0mcontour\u001b[0m\u001b[1;33m(\u001b[0m\u001b[0mXX\u001b[0m\u001b[1;33m,\u001b[0m \u001b[0mYY\u001b[0m\u001b[1;33m,\u001b[0m \u001b[0mZ\u001b[0m\u001b[1;33m,\u001b[0m \u001b[0mcolors\u001b[0m\u001b[1;33m=\u001b[0m\u001b[1;34m'k'\u001b[0m\u001b[1;33m,\u001b[0m \u001b[0mlevels\u001b[0m\u001b[1;33m=\u001b[0m\u001b[1;33m[\u001b[0m\u001b[1;33m-\u001b[0m\u001b[1;36m1\u001b[0m\u001b[1;33m,\u001b[0m \u001b[1;36m0\u001b[0m\u001b[1;33m,\u001b[0m \u001b[1;36m1\u001b[0m\u001b[1;33m]\u001b[0m\u001b[1;33m,\u001b[0m \u001b[0malpha\u001b[0m\u001b[1;33m=\u001b[0m\u001b[1;36m0.5\u001b[0m\u001b[1;33m,\u001b[0m \u001b[0mlinestyles\u001b[0m\u001b[1;33m=\u001b[0m\u001b[1;33m[\u001b[0m\u001b[1;34m'--'\u001b[0m\u001b[1;33m,\u001b[0m \u001b[1;34m'-'\u001b[0m\u001b[1;33m,\u001b[0m\u001b[1;34m'--'\u001b[0m\u001b[1;33m]\u001b[0m\u001b[1;33m)\u001b[0m\u001b[1;33m\u001b[0m\u001b[1;33m\u001b[0m\u001b[0m\n",
      "\u001b[1;32m~\\Anaconda3\\lib\\site-packages\\sklearn\\svm\\_base.py\u001b[0m in \u001b[0;36mdecision_function\u001b[1;34m(self, X)\u001b[0m\n\u001b[0;32m    561\u001b[0m         \u001b[0mtransformation\u001b[0m \u001b[0mof\u001b[0m \u001b[0movo\u001b[0m \u001b[0mdecision\u001b[0m \u001b[0mfunction\u001b[0m\u001b[1;33m.\u001b[0m\u001b[1;33m\u001b[0m\u001b[1;33m\u001b[0m\u001b[0m\n\u001b[0;32m    562\u001b[0m         \"\"\"\n\u001b[1;32m--> 563\u001b[1;33m         \u001b[0mdec\u001b[0m \u001b[1;33m=\u001b[0m \u001b[0mself\u001b[0m\u001b[1;33m.\u001b[0m\u001b[0m_decision_function\u001b[0m\u001b[1;33m(\u001b[0m\u001b[0mX\u001b[0m\u001b[1;33m)\u001b[0m\u001b[1;33m\u001b[0m\u001b[1;33m\u001b[0m\u001b[0m\n\u001b[0m\u001b[0;32m    564\u001b[0m         \u001b[1;32mif\u001b[0m \u001b[0mself\u001b[0m\u001b[1;33m.\u001b[0m\u001b[0mdecision_function_shape\u001b[0m \u001b[1;33m==\u001b[0m \u001b[1;34m'ovr'\u001b[0m \u001b[1;32mand\u001b[0m \u001b[0mlen\u001b[0m\u001b[1;33m(\u001b[0m\u001b[0mself\u001b[0m\u001b[1;33m.\u001b[0m\u001b[0mclasses_\u001b[0m\u001b[1;33m)\u001b[0m \u001b[1;33m>\u001b[0m \u001b[1;36m2\u001b[0m\u001b[1;33m:\u001b[0m\u001b[1;33m\u001b[0m\u001b[1;33m\u001b[0m\u001b[0m\n\u001b[0;32m    565\u001b[0m             \u001b[1;32mreturn\u001b[0m \u001b[0m_ovr_decision_function\u001b[0m\u001b[1;33m(\u001b[0m\u001b[0mdec\u001b[0m \u001b[1;33m<\u001b[0m \u001b[1;36m0\u001b[0m\u001b[1;33m,\u001b[0m \u001b[1;33m-\u001b[0m\u001b[0mdec\u001b[0m\u001b[1;33m,\u001b[0m \u001b[0mlen\u001b[0m\u001b[1;33m(\u001b[0m\u001b[0mself\u001b[0m\u001b[1;33m.\u001b[0m\u001b[0mclasses_\u001b[0m\u001b[1;33m)\u001b[0m\u001b[1;33m)\u001b[0m\u001b[1;33m\u001b[0m\u001b[1;33m\u001b[0m\u001b[0m\n",
      "\u001b[1;32m~\\Anaconda3\\lib\\site-packages\\sklearn\\svm\\_base.py\u001b[0m in \u001b[0;36m_decision_function\u001b[1;34m(self, X)\u001b[0m\n\u001b[0;32m    388\u001b[0m         \u001b[1;31m# NOTE: _validate_for_predict contains check for is_fitted\u001b[0m\u001b[1;33m\u001b[0m\u001b[1;33m\u001b[0m\u001b[1;33m\u001b[0m\u001b[0m\n\u001b[0;32m    389\u001b[0m         \u001b[1;31m# hence must be placed before any other attributes are used.\u001b[0m\u001b[1;33m\u001b[0m\u001b[1;33m\u001b[0m\u001b[1;33m\u001b[0m\u001b[0m\n\u001b[1;32m--> 390\u001b[1;33m         \u001b[0mX\u001b[0m \u001b[1;33m=\u001b[0m \u001b[0mself\u001b[0m\u001b[1;33m.\u001b[0m\u001b[0m_validate_for_predict\u001b[0m\u001b[1;33m(\u001b[0m\u001b[0mX\u001b[0m\u001b[1;33m)\u001b[0m\u001b[1;33m\u001b[0m\u001b[1;33m\u001b[0m\u001b[0m\n\u001b[0m\u001b[0;32m    391\u001b[0m         \u001b[0mX\u001b[0m \u001b[1;33m=\u001b[0m \u001b[0mself\u001b[0m\u001b[1;33m.\u001b[0m\u001b[0m_compute_kernel\u001b[0m\u001b[1;33m(\u001b[0m\u001b[0mX\u001b[0m\u001b[1;33m)\u001b[0m\u001b[1;33m\u001b[0m\u001b[1;33m\u001b[0m\u001b[0m\n\u001b[0;32m    392\u001b[0m \u001b[1;33m\u001b[0m\u001b[0m\n",
      "\u001b[1;32m~\\Anaconda3\\lib\\site-packages\\sklearn\\svm\\_base.py\u001b[0m in \u001b[0;36m_validate_for_predict\u001b[1;34m(self, X)\u001b[0m\n\u001b[0;32m    465\u001b[0m             raise ValueError(\"X.shape[1] = %d should be equal to %d, \"\n\u001b[0;32m    466\u001b[0m                              \u001b[1;34m\"the number of features at training time\"\u001b[0m \u001b[1;33m%\u001b[0m\u001b[1;33m\u001b[0m\u001b[1;33m\u001b[0m\u001b[0m\n\u001b[1;32m--> 467\u001b[1;33m                              (n_features, self.shape_fit_[1]))\n\u001b[0m\u001b[0;32m    468\u001b[0m         \u001b[1;32mreturn\u001b[0m \u001b[0mX\u001b[0m\u001b[1;33m\u001b[0m\u001b[1;33m\u001b[0m\u001b[0m\n\u001b[0;32m    469\u001b[0m \u001b[1;33m\u001b[0m\u001b[0m\n",
      "\u001b[1;31mValueError\u001b[0m: X.shape[1] = 2 should be equal to 4, the number of features at training time"
     ]
    },
    {
     "data": {
      "image/png": "[encoded data removed]",
      "text/plain": [
       "<Figure size 432x288 with 1 Axes>"
      ]
     },
     "metadata": {
      "needs_background": "light"
     },
     "output_type": "display_data"
    }
   ],
   "source": [
    "# 시각화 / 샘플 데이터와 초평면, Support Vector를 그래프에 표시하는 코드\n",
    "plt.scatter(X_train[:, 0], X_train[:, 1], c=Y_train, s=30, cmap=plt.cm.Paired)  # 샘플 데이터 표현\n",
    "\n",
    "# 초평면 표현\n",
    "ax = plt.gca()\n",
    "\n",
    "xlim = ax.get_xlim()\n",
    "ylim = ax.get_ylim()\n",
    "\n",
    "xx = np.linspace(xlim[0], xlim[1], 30)\n",
    "yy = np.linspace(ylim[0], ylim[1], 30)\n",
    "YY, XX = np.meshgrid(yy, xx)\n",
    "xy = np.vstack([XX.ravel(), YY.ravel()]).T\n",
    "Z = clf.decision_function(xy).reshape(XX.shape)\n",
    "\n",
    "ax.contour(XX, YY, Z, colors='k', levels=[-1, 0, 1], alpha=0.5, linestyles=['--', '-','--'])\n",
    "\n",
    "# Support Vector 표현\n",
    "ax.scatter(clf.support_vectors_[:, 0], clf.support_vectors_[:, 1], s=60, facecolors='r')\n",
    "\n",
    "plt.show()"
   ]
  },
  {
   "cell_type": "code",
   "execution_count": 54,
   "metadata": {},
   "outputs": [
    {
     "name": "stdout",
     "output_type": "stream",
     "text": [
      "1.0\n"
     ]
    }
   ],
   "source": [
    "print(clf.score(X_test, Y_test))"
   ]
  },
  {
   "cell_type": "code",
   "execution_count": 63,
   "metadata": {},
   "outputs": [
    {
     "name": "stdout",
     "output_type": "stream",
     "text": [
      "[[0.21125016 0.20449755 0.75189012 0.13312974]\n",
      " [0.26630493 0.20708743 0.74566054 0.18108375]\n",
      " [1.03160977 1.03888143 0.70074999 2.43621037]\n",
      " [0.20717715 0.22555928 0.60504949 0.1142871 ]\n",
      " [0.31927382 0.26512693 0.72102243 0.24808505]\n",
      " [0.29851082 0.22613482 0.53010303 0.1750382 ]\n",
      " [0.39756211 0.25558975 0.69567305 0.35749719]\n",
      " [0.27011153 0.21680248 0.7464503  0.19684311]\n",
      " [0.29482171 0.22648996 0.74631983 0.23113246]\n",
      " [0.22884865 0.29414    0.80388367 0.30994924]\n",
      " [0.30684069 0.204181   0.77815151 0.262273  ]\n",
      " [0.35099736 0.22032622 0.59428966 0.23360984]\n",
      " [1.64362549 1.04040733 0.55825001 4.77522933]\n",
      " [1.13394273 0.5596076  0.77875    3.1669798 ]\n",
      " [0.20410796 0.27993397 0.71586293 0.20183911]\n",
      " [0.29095772 0.23629155 0.74593443 0.23498898]\n",
      " [0.24417808 0.25725584 0.7916978  0.20165846]\n",
      " [1.39313315 0.37790299 0.30500001 1.87442219]\n",
      " [0.92275607 1.07014179 0.43325001 2.27266463]\n",
      " [0.21004729 0.25600716 0.56576121 0.13280964]\n",
      " [0.29150735 0.2723272  0.54762089 0.15356338]\n",
      " [0.73963115 0.79459235 0.6275     2.1987388 ]\n",
      " [0.21690728 0.28521977 0.56892133 0.14568491]\n",
      " [0.34024352 0.2561916  0.69456547 0.26607479]\n",
      " [1.76046946 0.42675094 0.41849995 4.09034392]\n",
      " [0.24644502 0.33272634 0.66452265 0.23395869]\n",
      " [0.3085125  0.21290151 0.87526691 0.29261595]\n",
      " [0.26684327 0.29904345 0.5919919  0.18913324]\n",
      " [0.26985085 0.33902891 0.71240044 0.3420603 ]\n",
      " [0.21577248 0.26856135 0.54187834 0.1366962 ]\n",
      " [0.28807164 0.24733818 0.73343843 0.20396525]\n",
      " [0.28328759 0.20070657 0.59644002 0.16828013]\n",
      " [0.28991911 0.21022678 0.76986772 0.2230987 ]\n",
      " [0.31937129 0.24914385 0.60372353 0.19782222]\n",
      " [0.2109791  0.23849989 0.67556572 0.1675215 ]\n",
      " [0.77006669 0.8902346  0.64600003 1.6660564 ]\n",
      " [0.38009237 0.29186742 0.76383698 0.37025144]\n",
      " [0.21529909 0.3338806  0.50602883 0.18822525]\n",
      " [1.06063473 1.1342523  0.45700002 1.94278463]\n",
      " [0.28948899 0.24512564 0.74503434 0.22559145]\n",
      " [0.26875016 0.2545461  0.57933998 0.15555248]\n",
      " [0.28126316 0.20229864 0.59866524 0.15935821]\n",
      " [0.23324692 0.24808047 0.67330211 0.13030817]\n",
      " [0.20496011 0.4473721  0.51752543 0.32703678]\n",
      " [0.20384836 0.23034002 0.57057011 0.15280131]\n",
      " [0.36074391 0.3338862  0.77444059 0.41127074]\n",
      " [0.47882065 0.34061547 0.72693282 0.53278304]\n",
      " [0.219172   0.21705509 0.53041738 0.09622942]\n",
      " [0.24033411 0.2340783  0.6626488  0.1498398 ]\n",
      " [0.28194916 0.26280888 0.60110319 0.19313124]\n",
      " [0.23002373 0.3008721  0.77569121 0.23653553]\n",
      " [0.24226168 0.260807   0.70995581 0.16967447]\n",
      " [0.20824486 0.22706811 0.76183987 0.15195606]\n",
      " [0.29345847 0.24944574 0.62386763 0.2235506 ]\n",
      " [0.2261228  0.27017874 0.68655872 0.16183244]\n",
      " [0.24503264 0.21271787 0.57079768 0.13786835]\n",
      " [0.4701391  0.29377482 0.56078064 0.39153219]\n",
      " [0.31069017 0.20293473 0.6315921  0.27324664]\n",
      " [0.30571377 0.26598523 0.69298845 0.21141836]\n",
      " [0.23787434 0.33236559 0.54862356 0.24751758]\n",
      " [0.23170884 0.29348356 0.63500458 0.17926038]\n",
      " [0.70338927 0.60267709 0.56424999 1.40364844]\n",
      " [0.29503516 0.25125099 0.64618754 0.21528036]\n",
      " [0.33603435 0.22071661 0.51620781 0.18592385]\n",
      " [1.91448001 0.82669253 0.3405     4.06523132]\n",
      " [1.85425382 0.45638441 0.74687499 8.1866392 ]\n",
      " [0.22723603 0.24131075 0.57678115 0.16099699]\n",
      " [0.34277897 0.24185499 0.8366915  0.31089495]\n",
      " [0.25204117 0.23944501 0.83895183 0.27155326]\n",
      " [0.21521436 0.30009851 0.7497685  0.22543338]\n",
      " [0.58291607 0.81815792 0.759      1.65571035]\n",
      " [0.44985206 0.27036136 0.58220714 0.37014122]\n",
      " [0.97163921 0.91372741 0.417      1.56204163]\n",
      " [0.28857704 0.21002181 0.58705896 0.17011095]\n",
      " [0.20231574 0.23765443 0.66824639 0.11908378]\n",
      " [0.289052   0.42292197 0.6017921  0.35360035]\n",
      " [0.2370969  0.26321879 0.77078259 0.22501685]\n",
      " [0.21319984 0.30196502 0.60398859 0.21981426]\n",
      " [0.30401696 0.21843898 0.51087785 0.15921682]\n",
      " [0.9519563  1.04000284 0.63299996 2.26549841]\n",
      " [0.291318   0.22179889 0.65698081 0.21185935]\n",
      " [0.20000466 0.31904156 0.74401385 0.24043912]\n",
      " [0.31184186 0.30945288 0.71596271 0.2387919 ]\n",
      " [0.30514439 0.35885695 0.81192589 0.37117305]\n",
      " [0.27249208 0.30394578 0.63374692 0.18775538]\n",
      " [0.20094417 0.20161449 0.53569186 0.09298684]\n",
      " [0.33198905 0.27744666 0.76596588 0.31654083]\n",
      " [1.57361151 0.41316113 0.236      1.83670876]\n",
      " [0.41558219 0.32669503 0.75200498 0.41838404]\n",
      " [0.2164187  0.20923444 0.63847697 0.1092882 ]\n",
      " [0.26611621 0.20522882 0.54693198 0.13307644]\n",
      " [0.28721545 0.24765981 0.85100764 0.24407242]\n",
      " [0.21399467 0.20032651 0.52883124 0.07626771]\n",
      " [0.29060389 0.21607841 0.50550294 0.14189471]\n",
      " [0.20643055 0.28411998 0.57872784 0.1547792 ]\n",
      " [0.25130171 0.30742583 0.6150465  0.22833368]\n",
      " [0.27827779 0.23175465 0.7697444  0.21119466]\n",
      " [0.25389301 0.29028072 0.75112295 0.1991169 ]\n",
      " [0.25424285 0.24051792 0.75143021 0.19884346]\n",
      " [0.29457571 0.21137507 0.59969675 0.17814391]\n",
      " [1.15431973 0.70647875 0.69       2.95514102]\n",
      " [0.23262802 0.28859636 0.56684661 0.15657073]\n",
      " [0.23214908 0.22406814 0.51066387 0.12094396]\n",
      " [0.28402027 0.2492203  0.73886192 0.24205595]\n",
      " [0.2885368  0.21801232 0.74860954 0.2204285 ]\n",
      " [0.32581233 0.27125281 0.50850081 0.20264061]\n",
      " [0.2863201  0.28517429 0.68660307 0.19225965]\n",
      " [0.26457442 0.21735836 0.50224376 0.12562346]\n",
      " [0.24170455 0.24293065 0.66158777 0.14545573]\n",
      " [1.77293446 0.90520195 0.60799998 6.1072394 ]\n",
      " [0.24919767 0.29457178 0.64966649 0.18524679]\n",
      " [0.27183389 0.26210417 0.65552086 0.22266594]\n",
      " [1.93912224 1.27065964 0.65499997 7.87913437]\n",
      " [0.24983721 0.23651297 0.75929546 0.28232848]\n",
      " [0.34600538 0.22803372 0.69885874 0.26295514]\n",
      " [0.21839746 0.21364111 0.79533404 0.19871798]\n",
      " [0.21482972 0.25696059 0.64943021 0.17630801]\n",
      " [0.30717414 0.21345548 0.75426042 0.25824136]\n",
      " [0.31982226 0.41508287 0.68082905 0.38478244]\n",
      " [0.29798181 0.28694998 0.70208389 0.23402957]\n",
      " [0.24759581 0.20525206 0.6937027  0.16753475]\n",
      " [0.23833888 0.26709011 0.7666474  0.23221829]\n",
      " [0.28423645 0.25214968 0.67246759 0.22311792]\n",
      " [0.21338758 0.22727473 0.74546516 0.22589204]\n",
      " [0.24785804 0.22786435 0.76729095 0.15094329]\n",
      " [0.28042832 0.26791717 0.50698149 0.14927142]\n",
      " [0.22989938 0.28117639 0.52332258 0.14311801]\n",
      " [0.3052159  0.32014501 0.74701768 0.25316728]\n",
      " [0.26009839 0.23106825 0.60256255 0.15364761]\n",
      " [0.31578434 0.33283438 0.81163275 0.30602911]\n",
      " [0.28809023 0.23049307 0.72795045 0.19277975]\n",
      " [0.31165492 0.29390212 0.71800602 0.33773775]\n",
      " [0.22672392 0.29182948 0.67917073 0.19925469]\n",
      " [0.23132947 0.29412601 0.76657492 0.20967179]\n",
      " [0.29807258 0.3660053  0.68197501 0.36196731]\n",
      " [0.33000457 0.21682879 0.76995283 0.2641534 ]\n",
      " [0.29969303 0.3634776  0.65111768 0.28902629]\n",
      " [0.33324764 0.30277342 0.77964699 0.27493348]\n",
      " [0.23805363 0.24969754 0.76344794 0.17903219]\n",
      " [0.21999178 0.23225241 0.56063074 0.10239525]\n",
      " [0.21386684 0.22993308 0.53194749 0.16479039]\n",
      " [0.20694016 0.30868718 0.71166986 0.21320122]\n",
      " [0.23653337 0.22081327 0.78323269 0.18053602]\n",
      " [0.25801166 0.28012239 0.71545553 0.31081371]\n",
      " [0.2658238  0.22729732 0.5889408  0.16450217]\n",
      " [0.26022498 0.26703293 0.63701796 0.1574266 ]\n",
      " [0.28885395 0.20160029 0.7494275  0.21739006]\n",
      " [0.21440865 0.35424909 0.74267143 0.29354626]\n",
      " [0.28971056 0.32209737 0.63566065 0.23765199]\n",
      " [1.28932998 0.51718717 0.68387502 3.57592084]\n",
      " [1.57673474 1.03340706 0.80199999 6.27366516]\n",
      " [0.22001233 0.24049584 0.67559636 0.19089135]\n",
      " [0.27388238 0.26995509 0.74985665 0.23722397]\n",
      " [0.26870684 0.22228578 0.68822038 0.16837128]\n",
      " [0.22865834 0.25981794 0.55617023 0.12531438]\n",
      " [0.2723913  0.2348287  0.55186164 0.15040735]\n",
      " [0.32469915 0.32477276 0.61056632 0.39542108]\n",
      " [0.20700958 0.20542037 0.75418711 0.17804771]\n",
      " [0.23331375 0.27969538 0.51781935 0.14113495]\n",
      " [0.28252976 0.32143887 0.70600891 0.22969248]\n",
      " [0.29246194 0.26128993 0.53750455 0.15261735]\n",
      " [0.27077203 0.21281898 0.59498733 0.15008985]\n",
      " [0.48598671 0.41196517 0.71821219 0.53979456]\n",
      " [0.31718817 0.25995565 0.65549463 0.27602186]\n",
      " [0.20519543 0.22902706 0.62612718 0.12476555]\n",
      " [0.34600538 0.22803372 0.69885874 0.26295514]\n",
      " [0.2708218  0.22540895 0.75731462 0.20507631]\n",
      " [0.75400215 0.55310993 0.66874999 1.41937811]\n",
      " [0.24529267 0.43368553 0.75891733 0.45260958]\n",
      " [0.24438611 0.22648966 0.586335   0.1222804 ]\n",
      " [0.30543484 0.28519688 0.85089695 0.32949674]\n",
      " [0.27907998 0.30656758 0.68512064 0.25452041]\n",
      " [0.2208554  0.29339891 0.76039457 0.28929034]\n",
      " [0.86592313 0.43283803 0.54824996 1.3091048 ]\n",
      " [0.24930633 0.25783216 0.56736743 0.16040568]\n",
      " [0.68257978 0.83197184 0.66725004 2.19134554]\n",
      " [0.28042832 0.26791717 0.50698149 0.14927142]\n",
      " [0.27917512 0.25171563 0.7089386  0.17613075]\n",
      " [0.3928668  0.31048765 0.56617916 0.28938675]\n",
      " [0.22363024 0.21075741 0.51549125 0.10323939]\n",
      " [0.21856304 0.21907081 0.59834552 0.11580626]\n",
      " [0.28201023 0.22171143 0.74665075 0.20177326]\n",
      " [1.88839338 0.44393721 0.75749993 8.54203455]\n",
      " [0.27532833 0.20708399 0.75438905 0.21938357]\n",
      " [0.21162544 0.30217788 0.80124503 0.30223037]\n",
      " [0.28123276 0.24263782 0.74567366 0.22865853]\n",
      " [1.3136503  0.30388381 0.37749994 2.04689601]\n",
      " [0.39392194 0.47600745 0.78705794 0.56027891]\n",
      " [0.30307416 0.25396587 0.69078493 0.22343713]\n",
      " [0.22718659 0.22817065 0.61941779 0.1957932 ]\n",
      " [0.28391286 0.2033623  0.60003638 0.16757316]\n",
      " [0.3037933  0.38104854 0.84700406 0.45573937]\n",
      " [0.30548453 0.23110575 0.74709487 0.25721222]\n",
      " [0.33552132 0.27768419 0.65862048 0.31771272]\n",
      " [1.09356743 0.3879199  0.389      1.501474  ]\n",
      " [0.21833988 0.30348943 0.58868056 0.17425326]\n",
      " [1.88760541 0.8278968  0.625      7.11496253]\n",
      " [0.21167862 0.26652825 0.72420514 0.16173495]\n",
      " [0.71362572 0.85650114 0.64350003 1.48671811]\n",
      " [0.23110935 0.20375546 0.65749908 0.16248875]\n",
      " [0.29080629 0.23522668 0.63370848 0.17677085]\n",
      " [0.26779615 0.20938514 0.69913828 0.21101793]\n",
      " [0.33615796 0.3023165  0.50627196 0.18351752]\n",
      " [0.21402264 0.2343832  0.70067239 0.17123678]\n",
      " [0.26124084 0.25325428 0.71030539 0.19722844]\n",
      " [0.26756994 0.20114268 0.79414475 0.18701185]\n",
      " [0.29889509 0.2175271  0.74707687 0.22909537]\n",
      " [0.26551002 0.31380333 0.78239584 0.27805068]\n",
      " [0.28810695 0.33453008 0.72303712 0.31273829]\n",
      " [0.34114932 0.21877449 0.68725401 0.2534098 ]\n",
      " [1.87045259 1.06332165 0.68799996 7.6542407 ]\n",
      " [0.22999317 0.20154094 0.56384158 0.09905765]\n",
      " [0.20505277 0.30070678 0.62838674 0.18122862]\n",
      " [0.25802647 0.21472154 0.60368228 0.16690192]\n",
      " [0.26503784 0.22222021 0.74768704 0.16668036]\n",
      " [0.23997652 0.32701837 0.81208074 0.31085142]\n",
      " [0.30924699 0.22107452 0.73055309 0.26540333]\n",
      " [0.31049243 0.2473751  0.76420653 0.23280681]]\n"
     ]
    }
   ],
   "source": [
    "print(X_test)"
   ]
  },
  {
   "cell_type": "code",
   "execution_count": 57,
   "metadata": {},
   "outputs": [],
   "source": [
    "filename = 'car_human_model.sav'\n",
    "pickle.dump(clf, open(filename, 'wb'))"
   ]
  },
  {
   "cell_type": "code",
   "execution_count": 65,
   "metadata": {},
   "outputs": [
    {
     "name": "stdout",
     "output_type": "stream",
     "text": [
      "[0]\n"
     ]
    }
   ],
   "source": [
    "tesset = [[0.21125016, 0.20449755, 0.75189012, 0.13312974]]\n",
    "loaded_model = pickle.load(open(filename, 'rb'))\n",
    "abc = loaded_model.predict(tesset)\n",
    "# result = loaded_model.score(X_test, Y_test)\n",
    "# print(result)\n",
    "print(abc)"
   ]
  },
  {
   "cell_type": "code",
   "execution_count": null,
   "metadata": {},
   "outputs": [],
   "source": []
  }
 ],
 "metadata": {
  "kernelspec": {
   "display_name": "Python 3",
   "language": "python",
   "name": "python3"
  },
  "language_info": {
   "codemirror_mode": {
    "name": "ipython",
    "version": 3
   },
   "file_extension": ".py",
   "mimetype": "text/x-python",
   "name": "python",
   "nbconvert_exporter": "python",
   "pygments_lexer": "ipython3",
   "version": "3.7.2"
  }
 },
 "nbformat": 4,
 "nbformat_minor": 2
}
